{
  "nbformat": 4,
  "nbformat_minor": 0,
  "metadata": {
    "colab": {
      "name": "kakao_gift_give.ipynb",
      "provenance": [],
      "mount_file_id": "1MfHx_smA1XWXUfWrpVCrdtt42s1eaPZK",
      "authorship_tag": "ABX9TyOVvRJg19abYoavUW0ytbg1",
      "include_colab_link": true
    },
    "kernelspec": {
      "name": "python3",
      "display_name": "Python 3"
    }
  },
  "cells": [
    {
      "cell_type": "markdown",
      "metadata": {
        "id": "view-in-github",
        "colab_type": "text"
      },
      "source": [
        "<a href=\"https://colab.research.google.com/github/ajdduck/DataScience_Python/blob/master/kakao_gift_give.ipynb\" target=\"_parent\"><img src=\"https://colab.research.google.com/assets/colab-badge.svg\" alt=\"Open In Colab\"/></a>"
      ]
    },
    {
      "cell_type": "code",
      "metadata": {
        "id": "vs2NeQalTvOP",
        "colab_type": "code",
        "outputId": "975c51b3-23e5-4421-c189-006b1d458faf",
        "colab": {
          "base_uri": "https://localhost:8080/",
          "height": 71
        }
      },
      "source": [
        "%matplotlib inline\n",
        "import pandas as pd\n",
        "import numpy as np\n",
        "import matplotlib.pyplot as plt\n",
        "import statsmodels.api as sm\n",
        "import statsmodels.formula.api as smf\n",
        "\n",
        "from mlxtend.preprocessing import TransactionEncoder \n",
        "from mlxtend.frequent_patterns import apriori\n",
        "from mlxtend.frequent_patterns import association_rules"
      ],
      "execution_count": 0,
      "outputs": [
        {
          "output_type": "stream",
          "text": [
            "/usr/local/lib/python3.6/dist-packages/statsmodels/tools/_testing.py:19: FutureWarning: pandas.util.testing is deprecated. Use the functions in the public API at pandas.testing instead.\n",
            "  import pandas.util.testing as tm\n"
          ],
          "name": "stderr"
        }
      ]
    },
    {
      "cell_type": "code",
      "metadata": {
        "id": "EfnDhJe9UAwA",
        "colab_type": "code",
        "outputId": "22f86ea3-9e12-4a23-eb34-238da8454c7d",
        "colab": {
          "base_uri": "https://localhost:8080/",
          "height": 68
        }
      },
      "source": [
        "# 나눔고딕 설치\n",
        "\n",
        "!apt -qq -y install fonts-nanum > /dev/null\n",
        "\n",
        "import matplotlib.font_manager as fm\n",
        "\n",
        "fontpath = '/usr/share/fonts/truetype/nanum/NanumBarunGothic.ttf'\n",
        "\n",
        "font = fm.FontProperties(fname=fontpath, size=9)\n",
        "\n",
        "fm._rebuild()\n",
        "\n",
        "# 그래프에 retina display 적용\n",
        "\n",
        "%config InlineBackend.figure_format = 'retina'\n",
        "\n",
        "# Colab 의 한글 폰트 설정\n",
        "\n",
        "plt.rc('font', family='NanumBarunGothic') "
      ],
      "execution_count": 0,
      "outputs": [
        {
          "output_type": "stream",
          "text": [
            "\n",
            "WARNING: apt does not have a stable CLI interface. Use with caution in scripts.\n",
            "\n"
          ],
          "name": "stdout"
        }
      ]
    },
    {
      "cell_type": "code",
      "metadata": {
        "id": "FKO5zdA_UEHf",
        "colab_type": "code",
        "colab": {}
      },
      "source": [
        "df_give = pd.read_csv(\"/content/drive/My Drive/df_give.csv\")"
      ],
      "execution_count": 0,
      "outputs": []
    },
    {
      "cell_type": "code",
      "metadata": {
        "id": "r7CKMt3NUP2f",
        "colab_type": "code",
        "outputId": "9ebc045f-9409-4811-da49-def2d3a98ed1",
        "colab": {
          "base_uri": "https://localhost:8080/",
          "height": 204
        }
      },
      "source": [
        "df_give.head()"
      ],
      "execution_count": 0,
      "outputs": [
        {
          "output_type": "execute_result",
          "data": {
            "text/html": [
              "<div>\n",
              "<style scoped>\n",
              "    .dataframe tbody tr th:only-of-type {\n",
              "        vertical-align: middle;\n",
              "    }\n",
              "\n",
              "    .dataframe tbody tr th {\n",
              "        vertical-align: top;\n",
              "    }\n",
              "\n",
              "    .dataframe thead th {\n",
              "        text-align: right;\n",
              "    }\n",
              "</style>\n",
              "<table border=\"1\" class=\"dataframe\">\n",
              "  <thead>\n",
              "    <tr style=\"text-align: right;\">\n",
              "      <th></th>\n",
              "      <th>선물 횟수</th>\n",
              "      <th>사용 이유</th>\n",
              "      <th>선물 이유</th>\n",
              "      <th>상품의 가격대</th>\n",
              "      <th>상대방의 필요성</th>\n",
              "      <th>상품의 종류</th>\n",
              "      <th>상품의 품질</th>\n",
              "      <th>보낸 선물</th>\n",
              "      <th>성별</th>\n",
              "      <th>직업</th>\n",
              "      <th>나이</th>\n",
              "    </tr>\n",
              "  </thead>\n",
              "  <tbody>\n",
              "    <tr>\n",
              "      <th>0</th>\n",
              "      <td>4회 이상</td>\n",
              "      <td>c</td>\n",
              "      <td>A, C</td>\n",
              "      <td>3</td>\n",
              "      <td>4</td>\n",
              "      <td>4</td>\n",
              "      <td>4</td>\n",
              "      <td>mobile</td>\n",
              "      <td>여</td>\n",
              "      <td>대학생</td>\n",
              "      <td>20대</td>\n",
              "    </tr>\n",
              "    <tr>\n",
              "      <th>1</th>\n",
              "      <td>2회</td>\n",
              "      <td>c</td>\n",
              "      <td>A, C</td>\n",
              "      <td>4</td>\n",
              "      <td>4</td>\n",
              "      <td>4</td>\n",
              "      <td>4</td>\n",
              "      <td>mobile</td>\n",
              "      <td>여</td>\n",
              "      <td>대학생</td>\n",
              "      <td>20대</td>\n",
              "    </tr>\n",
              "    <tr>\n",
              "      <th>2</th>\n",
              "      <td>1회 미만</td>\n",
              "      <td>c</td>\n",
              "      <td>C, D</td>\n",
              "      <td>3</td>\n",
              "      <td>3</td>\n",
              "      <td>3</td>\n",
              "      <td>3</td>\n",
              "      <td>mobile</td>\n",
              "      <td>여</td>\n",
              "      <td>대학생</td>\n",
              "      <td>20대</td>\n",
              "    </tr>\n",
              "    <tr>\n",
              "      <th>3</th>\n",
              "      <td>1회 미만</td>\n",
              "      <td>b</td>\n",
              "      <td>A, D</td>\n",
              "      <td>2</td>\n",
              "      <td>4</td>\n",
              "      <td>3</td>\n",
              "      <td>3</td>\n",
              "      <td>mobile</td>\n",
              "      <td>여</td>\n",
              "      <td>대학생</td>\n",
              "      <td>20대</td>\n",
              "    </tr>\n",
              "    <tr>\n",
              "      <th>4</th>\n",
              "      <td>1회</td>\n",
              "      <td>c</td>\n",
              "      <td>A, C</td>\n",
              "      <td>3</td>\n",
              "      <td>3</td>\n",
              "      <td>3</td>\n",
              "      <td>4</td>\n",
              "      <td>mobile</td>\n",
              "      <td>여</td>\n",
              "      <td>대학생</td>\n",
              "      <td>20대</td>\n",
              "    </tr>\n",
              "  </tbody>\n",
              "</table>\n",
              "</div>"
            ],
            "text/plain": [
              "   선물 횟수 사용 이유 선물 이유  상품의 가격대  상대방의 필요성  상품의 종류  상품의 품질   보낸 선물 성별   직업   나이\n",
              "0  4회 이상     c  A, C        3         4       4       4  mobile  여  대학생  20대\n",
              "1     2회     c  A, C        4         4       4       4  mobile  여  대학생  20대\n",
              "2  1회 미만     c  C, D        3         3       3       3  mobile  여  대학생  20대\n",
              "3  1회 미만     b  A, D        2         4       3       3  mobile  여  대학생  20대\n",
              "4     1회     c  A, C        3         3       3       4  mobile  여  대학생  20대"
            ]
          },
          "metadata": {
            "tags": []
          },
          "execution_count": 4
        }
      ]
    },
    {
      "cell_type": "code",
      "metadata": {
        "id": "-OQby7X4USZJ",
        "colab_type": "code",
        "outputId": "ae66c563-a1cf-48df-b0d9-c1b89fda5808",
        "colab": {
          "base_uri": "https://localhost:8080/",
          "height": 173
        }
      },
      "source": [
        "# 카카오톡 선물하기를 왜 이용하는가?\n",
        "\n",
        "s = df_give['사용 이유'].value_counts()\n",
        "df_use_reason = s.to_frame()\n",
        "df_use_reason.sort_index(inplace=True)\n",
        "\n",
        "df_use_reason"
      ],
      "execution_count": 0,
      "outputs": [
        {
          "output_type": "execute_result",
          "data": {
            "text/html": [
              "<div>\n",
              "<style scoped>\n",
              "    .dataframe tbody tr th:only-of-type {\n",
              "        vertical-align: middle;\n",
              "    }\n",
              "\n",
              "    .dataframe tbody tr th {\n",
              "        vertical-align: top;\n",
              "    }\n",
              "\n",
              "    .dataframe thead th {\n",
              "        text-align: right;\n",
              "    }\n",
              "</style>\n",
              "<table border=\"1\" class=\"dataframe\">\n",
              "  <thead>\n",
              "    <tr style=\"text-align: right;\">\n",
              "      <th></th>\n",
              "      <th>사용 이유</th>\n",
              "    </tr>\n",
              "  </thead>\n",
              "  <tbody>\n",
              "    <tr>\n",
              "      <th>a</th>\n",
              "      <td>6</td>\n",
              "    </tr>\n",
              "    <tr>\n",
              "      <th>b</th>\n",
              "      <td>1</td>\n",
              "    </tr>\n",
              "    <tr>\n",
              "      <th>c</th>\n",
              "      <td>43</td>\n",
              "    </tr>\n",
              "    <tr>\n",
              "      <th>d</th>\n",
              "      <td>1</td>\n",
              "    </tr>\n",
              "  </tbody>\n",
              "</table>\n",
              "</div>"
            ],
            "text/plain": [
              "   사용 이유\n",
              "a      6\n",
              "b      1\n",
              "c     43\n",
              "d      1"
            ]
          },
          "metadata": {
            "tags": []
          },
          "execution_count": 5
        }
      ]
    },
    {
      "cell_type": "code",
      "metadata": {
        "id": "Q7scv2kPUouw",
        "colab_type": "code",
        "outputId": "0a45fc26-7030-4ca6-fef0-22cb534b4ea0",
        "colab": {
          "base_uri": "https://localhost:8080/",
          "height": 551
        }
      },
      "source": [
        "df_use_reason.plot(kind = 'bar')"
      ],
      "execution_count": 0,
      "outputs": [
        {
          "output_type": "execute_result",
          "data": {
            "text/plain": [
              "<matplotlib.axes._subplots.AxesSubplot at 0x7fb2f6bebc18>"
            ]
          },
          "metadata": {
            "tags": []
          },
          "execution_count": 6
        },
        {
          "output_type": "stream",
          "text": [
            "findfont: Font family ['NanumBarunGothic'] not found. Falling back to DejaVu Sans.\n",
            "/usr/local/lib/python3.6/dist-packages/matplotlib/backends/backend_agg.py:214: RuntimeWarning: Glyph 49324 missing from current font.\n",
            "  font.set_text(s, 0.0, flags=flags)\n",
            "/usr/local/lib/python3.6/dist-packages/matplotlib/backends/backend_agg.py:214: RuntimeWarning: Glyph 50857 missing from current font.\n",
            "  font.set_text(s, 0.0, flags=flags)\n",
            "/usr/local/lib/python3.6/dist-packages/matplotlib/backends/backend_agg.py:214: RuntimeWarning: Glyph 51060 missing from current font.\n",
            "  font.set_text(s, 0.0, flags=flags)\n",
            "/usr/local/lib/python3.6/dist-packages/matplotlib/backends/backend_agg.py:214: RuntimeWarning: Glyph 50976 missing from current font.\n",
            "  font.set_text(s, 0.0, flags=flags)\n",
            "/usr/local/lib/python3.6/dist-packages/matplotlib/backends/backend_agg.py:183: RuntimeWarning: Glyph 49324 missing from current font.\n",
            "  font.set_text(s, 0, flags=flags)\n",
            "/usr/local/lib/python3.6/dist-packages/matplotlib/backends/backend_agg.py:183: RuntimeWarning: Glyph 50857 missing from current font.\n",
            "  font.set_text(s, 0, flags=flags)\n",
            "/usr/local/lib/python3.6/dist-packages/matplotlib/backends/backend_agg.py:183: RuntimeWarning: Glyph 51060 missing from current font.\n",
            "  font.set_text(s, 0, flags=flags)\n",
            "/usr/local/lib/python3.6/dist-packages/matplotlib/backends/backend_agg.py:183: RuntimeWarning: Glyph 50976 missing from current font.\n",
            "  font.set_text(s, 0, flags=flags)\n"
          ],
          "name": "stderr"
        },
        {
          "output_type": "display_data",
          "data": {
            "image/png": "[encoded data removed]",
            "text/plain": [
              "<Figure size 432x288 with 1 Axes>"
            ]
          },
          "metadata": {
            "tags": [],
            "image/png": {
              "width": 369,
              "height": 245
            },
            "needs_background": "light"
          }
        }
      ]
    },
    {
      "cell_type": "code",
      "metadata": {
        "id": "_5FSwR9bUq06",
        "colab_type": "code",
        "outputId": "71b44d90-feb3-45a3-dac9-91e59cf3d485",
        "colab": {
          "base_uri": "https://localhost:8080/",
          "height": 111
        }
      },
      "source": [
        "# 카카오톡 선물하기에서 어떤 형태로 선물을 보내는가?\n",
        "\n",
        "df_gift_kind = df_give['보낸 선물'].value_counts().to_frame()\n",
        "df_gift_kind"
      ],
      "execution_count": 0,
      "outputs": [
        {
          "output_type": "execute_result",
          "data": {
            "text/html": [
              "<div>\n",
              "<style scoped>\n",
              "    .dataframe tbody tr th:only-of-type {\n",
              "        vertical-align: middle;\n",
              "    }\n",
              "\n",
              "    .dataframe tbody tr th {\n",
              "        vertical-align: top;\n",
              "    }\n",
              "\n",
              "    .dataframe thead th {\n",
              "        text-align: right;\n",
              "    }\n",
              "</style>\n",
              "<table border=\"1\" class=\"dataframe\">\n",
              "  <thead>\n",
              "    <tr style=\"text-align: right;\">\n",
              "      <th></th>\n",
              "      <th>보낸 선물</th>\n",
              "    </tr>\n",
              "  </thead>\n",
              "  <tbody>\n",
              "    <tr>\n",
              "      <th>mobile</th>\n",
              "      <td>46</td>\n",
              "    </tr>\n",
              "    <tr>\n",
              "      <th>delivery</th>\n",
              "      <td>5</td>\n",
              "    </tr>\n",
              "  </tbody>\n",
              "</table>\n",
              "</div>"
            ],
            "text/plain": [
              "          보낸 선물\n",
              "mobile       46\n",
              "delivery      5"
            ]
          },
          "metadata": {
            "tags": []
          },
          "execution_count": 7
        }
      ]
    },
    {
      "cell_type": "code",
      "metadata": {
        "id": "IhpNJzIfqAWZ",
        "colab_type": "code",
        "outputId": "cc988aaa-5b03-4dfd-d13d-879d55c2a67c",
        "colab": {
          "base_uri": "https://localhost:8080/",
          "height": 537
        }
      },
      "source": [
        "df_gift_kind.plot(kind='pie', subplots = True)"
      ],
      "execution_count": 0,
      "outputs": [
        {
          "output_type": "execute_result",
          "data": {
            "text/plain": [
              "array([<matplotlib.axes._subplots.AxesSubplot object at 0x7fb2f63c2518>],\n",
              "      dtype=object)"
            ]
          },
          "metadata": {
            "tags": []
          },
          "execution_count": 8
        },
        {
          "output_type": "stream",
          "text": [
            "/usr/local/lib/python3.6/dist-packages/matplotlib/backends/backend_agg.py:214: RuntimeWarning: Glyph 48372 missing from current font.\n",
            "  font.set_text(s, 0.0, flags=flags)\n",
            "/usr/local/lib/python3.6/dist-packages/matplotlib/backends/backend_agg.py:214: RuntimeWarning: Glyph 45240 missing from current font.\n",
            "  font.set_text(s, 0.0, flags=flags)\n",
            "/usr/local/lib/python3.6/dist-packages/matplotlib/backends/backend_agg.py:214: RuntimeWarning: Glyph 49440 missing from current font.\n",
            "  font.set_text(s, 0.0, flags=flags)\n",
            "/usr/local/lib/python3.6/dist-packages/matplotlib/backends/backend_agg.py:214: RuntimeWarning: Glyph 47932 missing from current font.\n",
            "  font.set_text(s, 0.0, flags=flags)\n",
            "/usr/local/lib/python3.6/dist-packages/matplotlib/backends/backend_agg.py:183: RuntimeWarning: Glyph 48372 missing from current font.\n",
            "  font.set_text(s, 0, flags=flags)\n",
            "/usr/local/lib/python3.6/dist-packages/matplotlib/backends/backend_agg.py:183: RuntimeWarning: Glyph 45240 missing from current font.\n",
            "  font.set_text(s, 0, flags=flags)\n",
            "/usr/local/lib/python3.6/dist-packages/matplotlib/backends/backend_agg.py:183: RuntimeWarning: Glyph 49440 missing from current font.\n",
            "  font.set_text(s, 0, flags=flags)\n",
            "/usr/local/lib/python3.6/dist-packages/matplotlib/backends/backend_agg.py:183: RuntimeWarning: Glyph 47932 missing from current font.\n",
            "  font.set_text(s, 0, flags=flags)\n"
          ],
          "name": "stderr"
        },
        {
          "output_type": "display_data",
          "data": {
            "image/png": "[encoded data removed]",
            "text/plain": [
              "<Figure size 432x288 with 1 Axes>"
            ]
          },
          "metadata": {
            "tags": [],
            "image/png": {
              "width": 271,
              "height": 231
            }
          }
        }
      ]
    },
    {
      "cell_type": "code",
      "metadata": {
        "id": "je6Xa1kBVOnI",
        "colab_type": "code",
        "outputId": "fe47a51d-6703-4210-d9d4-16b91f477ca5",
        "colab": {
          "base_uri": "https://localhost:8080/",
          "height": 204
        }
      },
      "source": [
        "df_give_mod = df_give.copy()\n",
        "df_give_mod = df_give_mod[['선물 횟수', '사용 이유', '선물 이유', '상품의 가격대']]\n",
        "df_give_mod.head()"
      ],
      "execution_count": 0,
      "outputs": [
        {
          "output_type": "execute_result",
          "data": {
            "text/html": [
              "<div>\n",
              "<style scoped>\n",
              "    .dataframe tbody tr th:only-of-type {\n",
              "        vertical-align: middle;\n",
              "    }\n",
              "\n",
              "    .dataframe tbody tr th {\n",
              "        vertical-align: top;\n",
              "    }\n",
              "\n",
              "    .dataframe thead th {\n",
              "        text-align: right;\n",
              "    }\n",
              "</style>\n",
              "<table border=\"1\" class=\"dataframe\">\n",
              "  <thead>\n",
              "    <tr style=\"text-align: right;\">\n",
              "      <th></th>\n",
              "      <th>선물 횟수</th>\n",
              "      <th>사용 이유</th>\n",
              "      <th>선물 이유</th>\n",
              "      <th>상품의 가격대</th>\n",
              "    </tr>\n",
              "  </thead>\n",
              "  <tbody>\n",
              "    <tr>\n",
              "      <th>0</th>\n",
              "      <td>4회 이상</td>\n",
              "      <td>c</td>\n",
              "      <td>A, C</td>\n",
              "      <td>3</td>\n",
              "    </tr>\n",
              "    <tr>\n",
              "      <th>1</th>\n",
              "      <td>2회</td>\n",
              "      <td>c</td>\n",
              "      <td>A, C</td>\n",
              "      <td>4</td>\n",
              "    </tr>\n",
              "    <tr>\n",
              "      <th>2</th>\n",
              "      <td>1회 미만</td>\n",
              "      <td>c</td>\n",
              "      <td>C, D</td>\n",
              "      <td>3</td>\n",
              "    </tr>\n",
              "    <tr>\n",
              "      <th>3</th>\n",
              "      <td>1회 미만</td>\n",
              "      <td>b</td>\n",
              "      <td>A, D</td>\n",
              "      <td>2</td>\n",
              "    </tr>\n",
              "    <tr>\n",
              "      <th>4</th>\n",
              "      <td>1회</td>\n",
              "      <td>c</td>\n",
              "      <td>A, C</td>\n",
              "      <td>3</td>\n",
              "    </tr>\n",
              "  </tbody>\n",
              "</table>\n",
              "</div>"
            ],
            "text/plain": [
              "   선물 횟수 사용 이유 선물 이유  상품의 가격대\n",
              "0  4회 이상     c  A, C        3\n",
              "1     2회     c  A, C        4\n",
              "2  1회 미만     c  C, D        3\n",
              "3  1회 미만     b  A, D        2\n",
              "4     1회     c  A, C        3"
            ]
          },
          "metadata": {
            "tags": []
          },
          "execution_count": 9
        }
      ]
    },
    {
      "cell_type": "code",
      "metadata": {
        "id": "SX_Y1lDgV1bt",
        "colab_type": "code",
        "colab": {}
      },
      "source": [
        "df_give_mod.columns = ['var1', 'var2', 'var3', 'var4']"
      ],
      "execution_count": 0,
      "outputs": []
    },
    {
      "cell_type": "code",
      "metadata": {
        "id": "IZzaevtUWh2d",
        "colab_type": "code",
        "outputId": "1c56171b-0b7d-48f0-9313-7a23a5d77581",
        "colab": {
          "base_uri": "https://localhost:8080/",
          "height": 204
        }
      },
      "source": [
        "df_give_mod = (df_give_mod.set_index(df_give_mod.columns.drop('var3', 2).tolist())\n",
        "                          .var3.str.split(', ', expand=True)\n",
        "                          .stack()\n",
        "                          .reset_index()\n",
        "                          .rename(columns={0:'var3'})\n",
        "                          .loc[:, df_give_mod.columns]\n",
        "                        )\n",
        "df_give_mod.head()"
      ],
      "execution_count": 0,
      "outputs": [
        {
          "output_type": "execute_result",
          "data": {
            "text/html": [
              "<div>\n",
              "<style scoped>\n",
              "    .dataframe tbody tr th:only-of-type {\n",
              "        vertical-align: middle;\n",
              "    }\n",
              "\n",
              "    .dataframe tbody tr th {\n",
              "        vertical-align: top;\n",
              "    }\n",
              "\n",
              "    .dataframe thead th {\n",
              "        text-align: right;\n",
              "    }\n",
              "</style>\n",
              "<table border=\"1\" class=\"dataframe\">\n",
              "  <thead>\n",
              "    <tr style=\"text-align: right;\">\n",
              "      <th></th>\n",
              "      <th>var1</th>\n",
              "      <th>var2</th>\n",
              "      <th>var3</th>\n",
              "      <th>var4</th>\n",
              "    </tr>\n",
              "  </thead>\n",
              "  <tbody>\n",
              "    <tr>\n",
              "      <th>0</th>\n",
              "      <td>4회 이상</td>\n",
              "      <td>c</td>\n",
              "      <td>A</td>\n",
              "      <td>3</td>\n",
              "    </tr>\n",
              "    <tr>\n",
              "      <th>1</th>\n",
              "      <td>4회 이상</td>\n",
              "      <td>c</td>\n",
              "      <td>C</td>\n",
              "      <td>3</td>\n",
              "    </tr>\n",
              "    <tr>\n",
              "      <th>2</th>\n",
              "      <td>2회</td>\n",
              "      <td>c</td>\n",
              "      <td>A</td>\n",
              "      <td>4</td>\n",
              "    </tr>\n",
              "    <tr>\n",
              "      <th>3</th>\n",
              "      <td>2회</td>\n",
              "      <td>c</td>\n",
              "      <td>C</td>\n",
              "      <td>4</td>\n",
              "    </tr>\n",
              "    <tr>\n",
              "      <th>4</th>\n",
              "      <td>1회 미만</td>\n",
              "      <td>c</td>\n",
              "      <td>C</td>\n",
              "      <td>3</td>\n",
              "    </tr>\n",
              "  </tbody>\n",
              "</table>\n",
              "</div>"
            ],
            "text/plain": [
              "    var1 var2 var3  var4\n",
              "0  4회 이상    c    A     3\n",
              "1  4회 이상    c    C     3\n",
              "2     2회    c    A     4\n",
              "3     2회    c    C     4\n",
              "4  1회 미만    c    C     3"
            ]
          },
          "metadata": {
            "tags": []
          },
          "execution_count": 11
        }
      ]
    },
    {
      "cell_type": "code",
      "metadata": {
        "id": "AfS3OTcnWv4M",
        "colab_type": "code",
        "outputId": "10778f62-25b3-4b5a-df4b-1a03ca425eef",
        "colab": {
          "base_uri": "https://localhost:8080/",
          "height": 204
        }
      },
      "source": [
        "df_give_mod.columns = ['선물 횟수', '사용 이유', '선물 이유', '상품의 가격대']\n",
        "\n",
        "df_give_mod.head()"
      ],
      "execution_count": 0,
      "outputs": [
        {
          "output_type": "execute_result",
          "data": {
            "text/html": [
              "<div>\n",
              "<style scoped>\n",
              "    .dataframe tbody tr th:only-of-type {\n",
              "        vertical-align: middle;\n",
              "    }\n",
              "\n",
              "    .dataframe tbody tr th {\n",
              "        vertical-align: top;\n",
              "    }\n",
              "\n",
              "    .dataframe thead th {\n",
              "        text-align: right;\n",
              "    }\n",
              "</style>\n",
              "<table border=\"1\" class=\"dataframe\">\n",
              "  <thead>\n",
              "    <tr style=\"text-align: right;\">\n",
              "      <th></th>\n",
              "      <th>선물 횟수</th>\n",
              "      <th>사용 이유</th>\n",
              "      <th>선물 이유</th>\n",
              "      <th>상품의 가격대</th>\n",
              "    </tr>\n",
              "  </thead>\n",
              "  <tbody>\n",
              "    <tr>\n",
              "      <th>0</th>\n",
              "      <td>4회 이상</td>\n",
              "      <td>c</td>\n",
              "      <td>A</td>\n",
              "      <td>3</td>\n",
              "    </tr>\n",
              "    <tr>\n",
              "      <th>1</th>\n",
              "      <td>4회 이상</td>\n",
              "      <td>c</td>\n",
              "      <td>C</td>\n",
              "      <td>3</td>\n",
              "    </tr>\n",
              "    <tr>\n",
              "      <th>2</th>\n",
              "      <td>2회</td>\n",
              "      <td>c</td>\n",
              "      <td>A</td>\n",
              "      <td>4</td>\n",
              "    </tr>\n",
              "    <tr>\n",
              "      <th>3</th>\n",
              "      <td>2회</td>\n",
              "      <td>c</td>\n",
              "      <td>C</td>\n",
              "      <td>4</td>\n",
              "    </tr>\n",
              "    <tr>\n",
              "      <th>4</th>\n",
              "      <td>1회 미만</td>\n",
              "      <td>c</td>\n",
              "      <td>C</td>\n",
              "      <td>3</td>\n",
              "    </tr>\n",
              "  </tbody>\n",
              "</table>\n",
              "</div>"
            ],
            "text/plain": [
              "   선물 횟수 사용 이유 선물 이유  상품의 가격대\n",
              "0  4회 이상     c     A        3\n",
              "1  4회 이상     c     C        3\n",
              "2     2회     c     A        4\n",
              "3     2회     c     C        4\n",
              "4  1회 미만     c     C        3"
            ]
          },
          "metadata": {
            "tags": []
          },
          "execution_count": 12
        }
      ]
    },
    {
      "cell_type": "code",
      "metadata": {
        "id": "V7sQTOS2XBlS",
        "colab_type": "code",
        "outputId": "2c80ddb9-ac94-44bc-b53b-5f11c4ff9633",
        "colab": {
          "base_uri": "https://localhost:8080/",
          "height": 235
        }
      },
      "source": [
        "df_give_reason = df_give_mod['선물 이유'].value_counts().to_frame().sort_index()\n",
        "df_give_reason"
      ],
      "execution_count": 0,
      "outputs": [
        {
          "output_type": "execute_result",
          "data": {
            "text/html": [
              "<div>\n",
              "<style scoped>\n",
              "    .dataframe tbody tr th:only-of-type {\n",
              "        vertical-align: middle;\n",
              "    }\n",
              "\n",
              "    .dataframe tbody tr th {\n",
              "        vertical-align: top;\n",
              "    }\n",
              "\n",
              "    .dataframe thead th {\n",
              "        text-align: right;\n",
              "    }\n",
              "</style>\n",
              "<table border=\"1\" class=\"dataframe\">\n",
              "  <thead>\n",
              "    <tr style=\"text-align: right;\">\n",
              "      <th></th>\n",
              "      <th>선물 이유</th>\n",
              "    </tr>\n",
              "  </thead>\n",
              "  <tbody>\n",
              "    <tr>\n",
              "      <th>A</th>\n",
              "      <td>45</td>\n",
              "    </tr>\n",
              "    <tr>\n",
              "      <th>B</th>\n",
              "      <td>9</td>\n",
              "    </tr>\n",
              "    <tr>\n",
              "      <th>C</th>\n",
              "      <td>34</td>\n",
              "    </tr>\n",
              "    <tr>\n",
              "      <th>D</th>\n",
              "      <td>10</td>\n",
              "    </tr>\n",
              "    <tr>\n",
              "      <th>E</th>\n",
              "      <td>2</td>\n",
              "    </tr>\n",
              "    <tr>\n",
              "      <th>F</th>\n",
              "      <td>2</td>\n",
              "    </tr>\n",
              "  </tbody>\n",
              "</table>\n",
              "</div>"
            ],
            "text/plain": [
              "   선물 이유\n",
              "A     45\n",
              "B      9\n",
              "C     34\n",
              "D     10\n",
              "E      2\n",
              "F      2"
            ]
          },
          "metadata": {
            "tags": []
          },
          "execution_count": 13
        }
      ]
    },
    {
      "cell_type": "code",
      "metadata": {
        "id": "r3LblsTrXM57",
        "colab_type": "code",
        "outputId": "dac6eb04-f4d9-4c22-a069-069620218992",
        "colab": {
          "base_uri": "https://localhost:8080/",
          "height": 555
        }
      },
      "source": [
        "df_give_reason.plot(kind = 'bar')"
      ],
      "execution_count": 0,
      "outputs": [
        {
          "output_type": "execute_result",
          "data": {
            "text/plain": [
              "<matplotlib.axes._subplots.AxesSubplot at 0x7fb2f5b80c88>"
            ]
          },
          "metadata": {
            "tags": []
          },
          "execution_count": 14
        },
        {
          "output_type": "stream",
          "text": [
            "/usr/local/lib/python3.6/dist-packages/matplotlib/backends/backend_agg.py:214: RuntimeWarning: Glyph 49440 missing from current font.\n",
            "  font.set_text(s, 0.0, flags=flags)\n",
            "/usr/local/lib/python3.6/dist-packages/matplotlib/backends/backend_agg.py:214: RuntimeWarning: Glyph 47932 missing from current font.\n",
            "  font.set_text(s, 0.0, flags=flags)\n",
            "/usr/local/lib/python3.6/dist-packages/matplotlib/backends/backend_agg.py:214: RuntimeWarning: Glyph 51060 missing from current font.\n",
            "  font.set_text(s, 0.0, flags=flags)\n",
            "/usr/local/lib/python3.6/dist-packages/matplotlib/backends/backend_agg.py:214: RuntimeWarning: Glyph 50976 missing from current font.\n",
            "  font.set_text(s, 0.0, flags=flags)\n",
            "/usr/local/lib/python3.6/dist-packages/matplotlib/backends/backend_agg.py:183: RuntimeWarning: Glyph 49440 missing from current font.\n",
            "  font.set_text(s, 0, flags=flags)\n",
            "/usr/local/lib/python3.6/dist-packages/matplotlib/backends/backend_agg.py:183: RuntimeWarning: Glyph 47932 missing from current font.\n",
            "  font.set_text(s, 0, flags=flags)\n",
            "/usr/local/lib/python3.6/dist-packages/matplotlib/backends/backend_agg.py:183: RuntimeWarning: Glyph 51060 missing from current font.\n",
            "  font.set_text(s, 0, flags=flags)\n",
            "/usr/local/lib/python3.6/dist-packages/matplotlib/backends/backend_agg.py:183: RuntimeWarning: Glyph 50976 missing from current font.\n",
            "  font.set_text(s, 0, flags=flags)\n"
          ],
          "name": "stderr"
        },
        {
          "output_type": "display_data",
          "data": {
            "image/png": "[encoded data removed]",
            "text/plain": [
              "<Figure size 432x288 with 1 Axes>"
            ]
          },
          "metadata": {
            "tags": [],
            "image/png": {
              "width": 369,
              "height": 246
            },
            "needs_background": "light"
          }
        }
      ]
    },
    {
      "cell_type": "code",
      "metadata": {
        "id": "tAU_jpCd_m_J",
        "colab_type": "code",
        "colab": {}
      },
      "source": [
        "df_give_mod = df_give.copy()\n",
        "df_give_mod = df_give_mod[['선물 횟수', '사용 이유', '선물 이유', '상품의 가격대']]\n",
        "\n",
        "df_give_mod.columns = ['var1', 'var2', 'var3', 'var4']\n",
        "\n",
        "df_give_mod = (df_give_mod.set_index(df_give_mod.columns.drop('var3', 2).tolist())\n",
        "                          .var3.str.split(', ', expand=True)\n",
        "                          .stack()\n",
        "                          .reset_index()\n",
        "                          .rename(columns={0:'var3'})\n",
        "                          .loc[:, df_give_mod.columns]\n",
        "                        )\n",
        "\n",
        "df_give_mod.columns = ['선물 횟수', '사용 이유', '선물 이유', '상품의 가격대']"
      ],
      "execution_count": 0,
      "outputs": []
    },
    {
      "cell_type": "code",
      "metadata": {
        "id": "0hfyMpJjXc7G",
        "colab_type": "code",
        "colab": {}
      },
      "source": [
        "df_give_mod = df_give_mod.astype({'상품의 가격대':str})\n",
        "rows_number = df_give_mod.shape[0]\n",
        "\n",
        "dataset = []\n",
        "\n",
        "for i in range(rows_number):\n",
        "  row_list = df_give_mod.loc[i, :].tolist()\n",
        "  dataset.append(row_list)"
      ],
      "execution_count": 0,
      "outputs": []
    },
    {
      "cell_type": "code",
      "metadata": {
        "id": "yKwGOYdZXvPs",
        "colab_type": "code",
        "colab": {}
      },
      "source": [
        "te = TransactionEncoder() \n",
        "te_result = te.fit(dataset).transform(dataset)\n",
        "\n",
        "df = pd.DataFrame(te_result, columns=te.columns_)"
      ],
      "execution_count": 0,
      "outputs": []
    },
    {
      "cell_type": "code",
      "metadata": {
        "id": "LAvE-stdX2a4",
        "colab_type": "code",
        "outputId": "49e95f9e-117a-4747-a9d4-9ea09fb875a7",
        "colab": {
          "base_uri": "https://localhost:8080/",
          "height": 111
        }
      },
      "source": [
        "itemset = apriori(df, use_colnames=True) \n",
        "itemset"
      ],
      "execution_count": 0,
      "outputs": [
        {
          "output_type": "execute_result",
          "data": {
            "text/html": [
              "<div>\n",
              "<style scoped>\n",
              "    .dataframe tbody tr th:only-of-type {\n",
              "        vertical-align: middle;\n",
              "    }\n",
              "\n",
              "    .dataframe tbody tr th {\n",
              "        vertical-align: top;\n",
              "    }\n",
              "\n",
              "    .dataframe thead th {\n",
              "        text-align: right;\n",
              "    }\n",
              "</style>\n",
              "<table border=\"1\" class=\"dataframe\">\n",
              "  <thead>\n",
              "    <tr style=\"text-align: right;\">\n",
              "      <th></th>\n",
              "      <th>support</th>\n",
              "      <th>itemsets</th>\n",
              "    </tr>\n",
              "  </thead>\n",
              "  <tbody>\n",
              "    <tr>\n",
              "      <th>0</th>\n",
              "      <td>0.529412</td>\n",
              "      <td>(3)</td>\n",
              "    </tr>\n",
              "    <tr>\n",
              "      <th>1</th>\n",
              "      <td>0.843137</td>\n",
              "      <td>(c)</td>\n",
              "    </tr>\n",
              "  </tbody>\n",
              "</table>\n",
              "</div>"
            ],
            "text/plain": [
              "    support itemsets\n",
              "0  0.529412      (3)\n",
              "1  0.843137      (c)"
            ]
          },
          "metadata": {
            "tags": []
          },
          "execution_count": 18
        }
      ]
    },
    {
      "cell_type": "code",
      "metadata": {
        "id": "Vf6OYlwiYK40",
        "colab_type": "code",
        "outputId": "2a56431a-4687-4d70-aacf-5b331272fc68",
        "colab": {
          "base_uri": "https://localhost:8080/",
          "height": 359
        }
      },
      "source": [
        "itemset = apriori(df, min_support=0.3, use_colnames=True) \n",
        "itemset"
      ],
      "execution_count": 0,
      "outputs": [
        {
          "output_type": "execute_result",
          "data": {
            "text/html": [
              "<div>\n",
              "<style scoped>\n",
              "    .dataframe tbody tr th:only-of-type {\n",
              "        vertical-align: middle;\n",
              "    }\n",
              "\n",
              "    .dataframe tbody tr th {\n",
              "        vertical-align: top;\n",
              "    }\n",
              "\n",
              "    .dataframe thead th {\n",
              "        text-align: right;\n",
              "    }\n",
              "</style>\n",
              "<table border=\"1\" class=\"dataframe\">\n",
              "  <thead>\n",
              "    <tr style=\"text-align: right;\">\n",
              "      <th></th>\n",
              "      <th>support</th>\n",
              "      <th>itemsets</th>\n",
              "    </tr>\n",
              "  </thead>\n",
              "  <tbody>\n",
              "    <tr>\n",
              "      <th>0</th>\n",
              "      <td>0.372549</td>\n",
              "      <td>(1회)</td>\n",
              "    </tr>\n",
              "    <tr>\n",
              "      <th>1</th>\n",
              "      <td>0.529412</td>\n",
              "      <td>(3)</td>\n",
              "    </tr>\n",
              "    <tr>\n",
              "      <th>2</th>\n",
              "      <td>0.392157</td>\n",
              "      <td>(4)</td>\n",
              "    </tr>\n",
              "    <tr>\n",
              "      <th>3</th>\n",
              "      <td>0.441176</td>\n",
              "      <td>(A)</td>\n",
              "    </tr>\n",
              "    <tr>\n",
              "      <th>4</th>\n",
              "      <td>0.333333</td>\n",
              "      <td>(C)</td>\n",
              "    </tr>\n",
              "    <tr>\n",
              "      <th>5</th>\n",
              "      <td>0.843137</td>\n",
              "      <td>(c)</td>\n",
              "    </tr>\n",
              "    <tr>\n",
              "      <th>6</th>\n",
              "      <td>0.313725</td>\n",
              "      <td>(1회, c)</td>\n",
              "    </tr>\n",
              "    <tr>\n",
              "      <th>7</th>\n",
              "      <td>0.431373</td>\n",
              "      <td>(c, 3)</td>\n",
              "    </tr>\n",
              "    <tr>\n",
              "      <th>8</th>\n",
              "      <td>0.352941</td>\n",
              "      <td>(4, c)</td>\n",
              "    </tr>\n",
              "    <tr>\n",
              "      <th>9</th>\n",
              "      <td>0.362745</td>\n",
              "      <td>(A, c)</td>\n",
              "    </tr>\n",
              "  </tbody>\n",
              "</table>\n",
              "</div>"
            ],
            "text/plain": [
              "    support itemsets\n",
              "0  0.372549     (1회)\n",
              "1  0.529412      (3)\n",
              "2  0.392157      (4)\n",
              "3  0.441176      (A)\n",
              "4  0.333333      (C)\n",
              "5  0.843137      (c)\n",
              "6  0.313725  (1회, c)\n",
              "7  0.431373   (c, 3)\n",
              "8  0.352941   (4, c)\n",
              "9  0.362745   (A, c)"
            ]
          },
          "metadata": {
            "tags": []
          },
          "execution_count": 19
        }
      ]
    },
    {
      "cell_type": "code",
      "metadata": {
        "id": "wAEJWbQOYN1c",
        "colab_type": "code",
        "outputId": "92f7716a-99d0-406d-a759-0b3472c3506e",
        "colab": {
          "base_uri": "https://localhost:8080/",
          "height": 297
        }
      },
      "source": [
        "association_rules(itemset, metric=\"confidence\", min_threshold=0.3)"
      ],
      "execution_count": 0,
      "outputs": [
        {
          "output_type": "execute_result",
          "data": {
            "text/html": [
              "<div>\n",
              "<style scoped>\n",
              "    .dataframe tbody tr th:only-of-type {\n",
              "        vertical-align: middle;\n",
              "    }\n",
              "\n",
              "    .dataframe tbody tr th {\n",
              "        vertical-align: top;\n",
              "    }\n",
              "\n",
              "    .dataframe thead th {\n",
              "        text-align: right;\n",
              "    }\n",
              "</style>\n",
              "<table border=\"1\" class=\"dataframe\">\n",
              "  <thead>\n",
              "    <tr style=\"text-align: right;\">\n",
              "      <th></th>\n",
              "      <th>antecedents</th>\n",
              "      <th>consequents</th>\n",
              "      <th>antecedent support</th>\n",
              "      <th>consequent support</th>\n",
              "      <th>support</th>\n",
              "      <th>confidence</th>\n",
              "      <th>lift</th>\n",
              "      <th>leverage</th>\n",
              "      <th>conviction</th>\n",
              "    </tr>\n",
              "  </thead>\n",
              "  <tbody>\n",
              "    <tr>\n",
              "      <th>0</th>\n",
              "      <td>(1회)</td>\n",
              "      <td>(c)</td>\n",
              "      <td>0.372549</td>\n",
              "      <td>0.843137</td>\n",
              "      <td>0.313725</td>\n",
              "      <td>0.842105</td>\n",
              "      <td>0.998776</td>\n",
              "      <td>-0.000384</td>\n",
              "      <td>0.993464</td>\n",
              "    </tr>\n",
              "    <tr>\n",
              "      <th>1</th>\n",
              "      <td>(c)</td>\n",
              "      <td>(1회)</td>\n",
              "      <td>0.843137</td>\n",
              "      <td>0.372549</td>\n",
              "      <td>0.313725</td>\n",
              "      <td>0.372093</td>\n",
              "      <td>0.998776</td>\n",
              "      <td>-0.000384</td>\n",
              "      <td>0.999274</td>\n",
              "    </tr>\n",
              "    <tr>\n",
              "      <th>2</th>\n",
              "      <td>(c)</td>\n",
              "      <td>(3)</td>\n",
              "      <td>0.843137</td>\n",
              "      <td>0.529412</td>\n",
              "      <td>0.431373</td>\n",
              "      <td>0.511628</td>\n",
              "      <td>0.966408</td>\n",
              "      <td>-0.014994</td>\n",
              "      <td>0.963585</td>\n",
              "    </tr>\n",
              "    <tr>\n",
              "      <th>3</th>\n",
              "      <td>(3)</td>\n",
              "      <td>(c)</td>\n",
              "      <td>0.529412</td>\n",
              "      <td>0.843137</td>\n",
              "      <td>0.431373</td>\n",
              "      <td>0.814815</td>\n",
              "      <td>0.966408</td>\n",
              "      <td>-0.014994</td>\n",
              "      <td>0.847059</td>\n",
              "    </tr>\n",
              "    <tr>\n",
              "      <th>4</th>\n",
              "      <td>(4)</td>\n",
              "      <td>(c)</td>\n",
              "      <td>0.392157</td>\n",
              "      <td>0.843137</td>\n",
              "      <td>0.352941</td>\n",
              "      <td>0.900000</td>\n",
              "      <td>1.067442</td>\n",
              "      <td>0.022299</td>\n",
              "      <td>1.568627</td>\n",
              "    </tr>\n",
              "    <tr>\n",
              "      <th>5</th>\n",
              "      <td>(c)</td>\n",
              "      <td>(4)</td>\n",
              "      <td>0.843137</td>\n",
              "      <td>0.392157</td>\n",
              "      <td>0.352941</td>\n",
              "      <td>0.418605</td>\n",
              "      <td>1.067442</td>\n",
              "      <td>0.022299</td>\n",
              "      <td>1.045490</td>\n",
              "    </tr>\n",
              "    <tr>\n",
              "      <th>6</th>\n",
              "      <td>(A)</td>\n",
              "      <td>(c)</td>\n",
              "      <td>0.441176</td>\n",
              "      <td>0.843137</td>\n",
              "      <td>0.362745</td>\n",
              "      <td>0.822222</td>\n",
              "      <td>0.975194</td>\n",
              "      <td>-0.009227</td>\n",
              "      <td>0.882353</td>\n",
              "    </tr>\n",
              "    <tr>\n",
              "      <th>7</th>\n",
              "      <td>(c)</td>\n",
              "      <td>(A)</td>\n",
              "      <td>0.843137</td>\n",
              "      <td>0.441176</td>\n",
              "      <td>0.362745</td>\n",
              "      <td>0.430233</td>\n",
              "      <td>0.975194</td>\n",
              "      <td>-0.009227</td>\n",
              "      <td>0.980792</td>\n",
              "    </tr>\n",
              "  </tbody>\n",
              "</table>\n",
              "</div>"
            ],
            "text/plain": [
              "  antecedents consequents  antecedent support  ...      lift  leverage  conviction\n",
              "0        (1회)         (c)            0.372549  ...  0.998776 -0.000384    0.993464\n",
              "1         (c)        (1회)            0.843137  ...  0.998776 -0.000384    0.999274\n",
              "2         (c)         (3)            0.843137  ...  0.966408 -0.014994    0.963585\n",
              "3         (3)         (c)            0.529412  ...  0.966408 -0.014994    0.847059\n",
              "4         (4)         (c)            0.392157  ...  1.067442  0.022299    1.568627\n",
              "5         (c)         (4)            0.843137  ...  1.067442  0.022299    1.045490\n",
              "6         (A)         (c)            0.441176  ...  0.975194 -0.009227    0.882353\n",
              "7         (c)         (A)            0.843137  ...  0.975194 -0.009227    0.980792\n",
              "\n",
              "[8 rows x 9 columns]"
            ]
          },
          "metadata": {
            "tags": []
          },
          "execution_count": 20
        }
      ]
    },
    {
      "cell_type": "code",
      "metadata": {
        "id": "YoOLK_XYYR7_",
        "colab_type": "code",
        "colab": {}
      },
      "source": [
        ""
      ],
      "execution_count": 0,
      "outputs": []
    }
  ]
}